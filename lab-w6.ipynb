{
 "cells": [
  {
   "cell_type": "markdown",
   "metadata": {},
   "source": [
    "# การประยุกต์ใช้โครงสร้างต้นไม้กับ Tree data structure\n",
    "# 1. ผลรวม คู่อันดับก่อนหน้าและลำดับตามหลัง root\n",
    "# 2. ผลรวมของ ต้นไม้ทั้งต้น \n",
    "# 3. ผลรวมของ N ลำดับก่อนหน้า ลำดับตามหลัง ของการท่องต้นไม้แบบตามลำดับ\n",
    "# 4. ผลรวมของ กิ่งซ้ายสุด และ กิ่งขวาสุด ของต้นไม้"
   ]
  },
  {
   "cell_type": "code",
   "execution_count": 10,
   "metadata": {},
   "outputs": [
    {
     "name": "stdout",
     "output_type": "stream",
     "text": [
      "Perfect BST of given height : \n",
      " \n",
      "  3\n",
      " / \\\n",
      "0   4__\n",
      "       \\\n",
      "        10\n",
      "       /  \\\n",
      "      6    14\n",
      "\n"
     ]
    }
   ],
   "source": [
    "from binarytree import bst\n",
    "root = bst(height = 3)\n",
    "print('Perfect BST of given height : \\n',\n",
    "      root)"
   ]
  },
  {
   "cell_type": "code",
   "execution_count": 11,
   "metadata": {},
   "outputs": [
    {
     "name": "stdout",
     "output_type": "stream",
     "text": [
      "[Node(0), Node(3), Node(4), Node(6), Node(10), Node(14)]\n"
     ]
    }
   ],
   "source": [
    "print(root.inorder)"
   ]
  },
  {
   "cell_type": "code",
   "execution_count": 12,
   "metadata": {},
   "outputs": [
    {
     "name": "stdout",
     "output_type": "stream",
     "text": [
      "[Node(3), Node(0), Node(4), Node(10), Node(6), Node(14)]\n"
     ]
    }
   ],
   "source": [
    "print(root.preorder)"
   ]
  },
  {
   "cell_type": "code",
   "execution_count": 13,
   "metadata": {},
   "outputs": [
    {
     "name": "stdout",
     "output_type": "stream",
     "text": [
      "[Node(0), Node(6), Node(14), Node(10), Node(4), Node(3)]\n"
     ]
    }
   ],
   "source": [
    "print(root.postorder)"
   ]
  },
  {
   "cell_type": "markdown",
   "metadata": {},
   "source": [
    "# 1. ผลรวม คู่อันดับก่อนหน้าและลำดับตามหลัง root"
   ]
  },
  {
   "cell_type": "code",
   "execution_count": 14,
   "metadata": {},
   "outputs": [
    {
     "name": "stdout",
     "output_type": "stream",
     "text": [
      "1 # : 4\n"
     ]
    }
   ],
   "source": [
    "def TraverseTree(root):\n",
    "\n",
    "    Sum = root.left.value + root.right.value\n",
    "    return Sum\n",
    "\n",
    "Sum = TraverseTree(root)\n",
    "print(\"1 # : \" + str(Sum))"
   ]
  },
  {
   "cell_type": "markdown",
   "metadata": {},
   "source": [
    "# 2. ผลรวมของ ต้นไม้ทั้งต้น"
   ]
  },
  {
   "cell_type": "code",
   "execution_count": 15,
   "metadata": {},
   "outputs": [
    {
     "name": "stdout",
     "output_type": "stream",
     "text": [
      "[Node(0), Node(3), Node(4), Node(6), Node(10), Node(14)]\n",
      "2 # : 37\n"
     ]
    }
   ],
   "source": [
    "def InorderTraverseTree( root): \n",
    "    if root:\n",
    "        return InorderTraverseTree(root.left) + int(root.value) + InorderTraverseTree(root.right)\n",
    "    else:\n",
    "        return 0\n",
    "\n",
    "print(root.inorder)\n",
    "Sum = InorderTraverseTree(root)\n",
    "print(\"2 # : \" + str(Sum))\n"
   ]
  },
  {
   "cell_type": "markdown",
   "metadata": {},
   "source": [
    "# 3. ค้นหา โหนดในต้นไม้ ว่ามีเลขที่เราต้องการหรือไม่"
   ]
  },
  {
   "cell_type": "code",
   "execution_count": 16,
   "metadata": {},
   "outputs": [
    {
     "name": "stdout",
     "output_type": "stream",
     "text": [
      "3 #  True\n"
     ]
    }
   ],
   "source": [
    "def Search(root,key):\n",
    "    if root:\n",
    "        if key == root.value:\n",
    "            return True\n",
    "        else:\n",
    "            if key > root.value:\n",
    "                return Search(root.right,key)\n",
    "            else:\n",
    "                return Search(root.left,key)\n",
    "    return False\n",
    "\n",
    "key = 14\n",
    "print(\"3 # \", Search(root,key))"
   ]
  },
  {
   "cell_type": "markdown",
   "metadata": {},
   "source": [
    "# 4. ผลรวมของ กิ่งซ้ายสุด และ กิ่งขวาสุด ของต้นไม้"
   ]
  },
  {
   "cell_type": "code",
   "execution_count": 18,
   "metadata": {},
   "outputs": [
    {
     "name": "stdout",
     "output_type": "stream",
     "text": [
      "4 # The result :  14\n"
     ]
    }
   ],
   "source": [
    "def SumOfLeftestAndRightest(root):\n",
    "    res = []\n",
    "    if root:\n",
    "        res = SumOfLeftestAndRightest(root.left)\n",
    "        res.append(root.value)\n",
    "        res += SumOfLeftestAndRightest(root.right)\n",
    "        #print(root.value)\n",
    "\n",
    "    return res\n",
    "\n",
    "t = SumOfLeftestAndRightest(root)\n",
    "print(\"4 #\", \"The result : \", t[0] +t[-1])"
   ]
  },
  {
   "cell_type": "code",
   "execution_count": null,
   "metadata": {},
   "outputs": [],
   "source": []
  },
  {
   "cell_type": "code",
   "execution_count": null,
   "metadata": {},
   "outputs": [],
   "source": []
  },
  {
   "cell_type": "code",
   "execution_count": null,
   "metadata": {},
   "outputs": [],
   "source": []
  },
  {
   "cell_type": "code",
   "execution_count": null,
   "metadata": {},
   "outputs": [],
   "source": []
  },
  {
   "cell_type": "code",
   "execution_count": null,
   "metadata": {},
   "outputs": [],
   "source": []
  },
  {
   "cell_type": "code",
   "execution_count": null,
   "metadata": {},
   "outputs": [],
   "source": []
  },
  {
   "cell_type": "code",
   "execution_count": null,
   "metadata": {},
   "outputs": [],
   "source": []
  }
 ],
 "metadata": {
  "kernelspec": {
   "display_name": "Python 3 (ipykernel)",
   "language": "python",
   "name": "python3"
  },
  "language_info": {
   "codemirror_mode": {
    "name": "ipython",
    "version": 3
   },
   "file_extension": ".py",
   "mimetype": "text/x-python",
   "name": "python",
   "nbconvert_exporter": "python",
   "pygments_lexer": "ipython3",
   "version": "3.10.0"
  }
 },
 "nbformat": 4,
 "nbformat_minor": 4
}
